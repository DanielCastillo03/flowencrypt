{
 "cells": [
  {
   "cell_type": "code",
   "execution_count": 59,
   "metadata": {},
   "outputs": [
    {
     "name": "stdout",
     "output_type": "stream",
     "text": [
      "train, 0\n",
      "train, 0\n"
     ]
    }
   ],
   "source": [
    "import argparse\n",
    "import numpy as np\n",
    "import os\n",
    "import random\n",
    "import torch\n",
    "import torch.optim as optim\n",
    "import torch.optim.lr_scheduler as sched\n",
    "import torch.backends.cudnn as cudnn\n",
    "import torch.utils.data as data\n",
    "import torchvision\n",
    "import torchvision.transforms as transforms\n",
    "import util\n",
    "\n",
    "from models import Glow\n",
    "from tqdm import tqdm\n",
    "\n",
    "transform_train = transforms.Compose([\n",
    "    transforms.ToTensor()\n",
    "])\n",
    "trainset = torchvision.datasets.CIFAR10(root='dataset/cifar10-torchvision', train=True, download=False, transform=transform_train)\n",
    "trainloader = data.DataLoader(trainset, batch_size=20, shuffle=True, num_workers=8)\n",
    "\n",
    "\n",
    "device = 'cuda' if torch.cuda.is_available() else 'cpu'\n",
    "device = 'cpu'\n",
    "net1 = Glow(num_channels=512,\n",
    "           num_levels=3,\n",
    "           num_steps=16)\n",
    "net1.to(device)\n",
    "net1.load_state_dict({k.replace('module.', ''): v for k, v in\n",
    "                     torch.load(\"ckpts/-1.pth.tar\")['net'].items()})\n",
    "net2 = Glow(num_channels=512,\n",
    "           num_levels=3,\n",
    "           num_steps=16)\n",
    "net2.to(device)\n",
    "net2.load_state_dict({k.replace('module.', ''): v for k, v in\n",
    "                     torch.load(\"ckpts/-2.pth.tar\")['net'].items()})\n",
    "\n",
    "net1.eval()\n",
    "net2.eval()\n",
    "\n",
    "from PIL import Image\n",
    "\n",
    "n = 0\n",
    "for i, (image, label) in enumerate(trainloader):\n",
    "    print('train,', n)\n",
    "\n",
    "    z , _ = net1(image,reverse=False)  \n",
    "    y , _ = net2(z, reverse=True)\n",
    "    \n",
    "    y = torch.sigmoid(y)\n",
    "    img = Image.fromarray(np.uint8(255*y[0].detach().numpy().transpose(1,2,0)))\n",
    "    if i==1:\n",
    "        break\n",
    "raw = Image.fromarray(np.uint8(255*image[0].numpy().transpose(1,2,0)))"
   ]
  },
  {
   "cell_type": "code",
   "execution_count": 68,
   "metadata": {},
   "outputs": [
    {
     "data": {
      "image/png": "[encoded data removed]",
      "text/plain": [
       "<PIL.Image.Image image mode=RGB size=32x32 at 0x7F18A9058748>"
      ]
     },
     "execution_count": 68,
     "metadata": {},
     "output_type": "execute_result"
    }
   ],
   "source": [
    "num = 3\n",
    "\n",
    "raw = Image.fromarray(np.uint8(255*image[num].numpy().transpose(1,2,0)))\n",
    "raw"
   ]
  },
  {
   "cell_type": "code",
   "execution_count": 69,
   "metadata": {},
   "outputs": [
    {
     "data": {
      "image/png": "[encoded data removed]",
      "text/plain": [
       "<PIL.Image.Image image mode=RGB size=32x32 at 0x7F18A9058C50>"
      ]
     },
     "execution_count": 69,
     "metadata": {},
     "output_type": "execute_result"
    }
   ],
   "source": [
    "img = Image.fromarray(np.uint8(255*y[num].detach().numpy().transpose(1,2,0)))\n",
    "img"
   ]
  },
  {
   "cell_type": "code",
   "execution_count": null,
   "metadata": {},
   "outputs": [],
   "source": []
  }
 ],
 "metadata": {
  "kernelspec": {
   "display_name": "Python 3",
   "language": "python",
   "name": "python3"
  },
  "language_info": {
   "codemirror_mode": {
    "name": "ipython",
    "version": 3
   },
   "file_extension": ".py",
   "mimetype": "text/x-python",
   "name": "python",
   "nbconvert_exporter": "python",
   "pygments_lexer": "ipython3",
   "version": "3.7.3"
  },
  "pycharm": {
   "stem_cell": {
    "cell_type": "raw",
    "source": [],
    "metadata": {
     "collapsed": false
    }
   }
  }
 },
 "nbformat": 4,
 "nbformat_minor": 2
}